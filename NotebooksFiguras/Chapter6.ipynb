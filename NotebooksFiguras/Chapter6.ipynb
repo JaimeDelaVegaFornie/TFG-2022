{
 "cells": [
  {
   "cell_type": "markdown",
   "id": "wooden-frame",
   "metadata": {},
   "source": [
    "# Operadores de mutación"
   ]
  },
  {
   "cell_type": "markdown",
   "id": "velvet-possible",
   "metadata": {},
   "source": [
    "## Mutantes a mano"
   ]
  },
  {
   "cell_type": "code",
   "execution_count": 3,
   "id": "advisory-biotechnology",
   "metadata": {},
   "outputs": [
    {
     "data": {
      "image/png": "[encoded data removed]",
      "text/plain": [
       "<Figure size 206.852x144.48 with 1 Axes>"
      ]
     },
     "execution_count": 3,
     "metadata": {},
     "output_type": "execute_result"
    }
   ],
   "source": [
    "from qiskit import QuantumCircuit\n",
    "\n",
    "qc = QuantumCircuit(2)\n",
    "qc.x(0)\n",
    "qc.cx(0,1)\n",
    "#print(qc.draw(output='latex_source'))\n",
    "qc.draw(output='mpl')\n"
   ]
  },
  {
   "cell_type": "code",
   "execution_count": 6,
   "id": "fluid-brain",
   "metadata": {},
   "outputs": [
    {
     "data": {
      "text/latex": [
       "$$\n",
       "\\text{Statevector} = \n",
       "\\begin{bmatrix}\n",
       "0 & 0 & 0 & 1  \\\\\n",
       " \\end{bmatrix}\n",
       "$$"
      ],
      "text/plain": [
       "<IPython.core.display.Latex object>"
      ]
     },
     "execution_count": 6,
     "metadata": {},
     "output_type": "execute_result"
    }
   ],
   "source": [
    "from qiskit import QuantumCircuit, Aer, assemble\n",
    "\n",
    "import numpy as np\n",
    "from qiskit.visualization import plot_histogram, plot_bloch_multivector\n",
    "\n",
    "svsim = Aer.get_backend('aer_simulator')\n",
    "qc.save_statevector()\n",
    "qobj = assemble(qc)\n",
    "final_state = svsim.run(qobj).result().get_statevector()\n",
    "\n",
    "# In Jupyter Notebooks we can display this nicely using Latex.\n",
    "# If not using Jupyter Notebooks you may need to remove the \n",
    "# array_to_latex function and use print(final_state) instead.\n",
    "from qiskit.visualization import array_to_latex\n",
    "array_to_latex(final_state, prefix=\"\\\\text{Statevector} = \")"
   ]
  },
  {
   "cell_type": "code",
   "execution_count": 7,
   "id": "continuous-guidance",
   "metadata": {},
   "outputs": [
    {
     "data": {
      "image/png": "[encoded data removed]",
      "text/plain": [
       "<Figure size 206.852x144.48 with 1 Axes>"
      ]
     },
     "execution_count": 7,
     "metadata": {},
     "output_type": "execute_result"
    }
   ],
   "source": [
    "# Aplicar operador de mutación que cambie la puerta x por la puerta h\n",
    "qc = QuantumCircuit(2)\n",
    "qc.h(0)\n",
    "qc.cx(0,1)\n",
    "#print(qc.draw(output='latex_source'))\n",
    "qc.draw(output='mpl')"
   ]
  },
  {
   "cell_type": "code",
   "execution_count": 8,
   "id": "delayed-connectivity",
   "metadata": {},
   "outputs": [
    {
     "data": {
      "text/latex": [
       "$$\n",
       "\\text{Statevector} = \n",
       "\\begin{bmatrix}\n",
       "\\tfrac{1}{\\sqrt{2}} & 0 & 0 & \\tfrac{1}{\\sqrt{2}}  \\\\\n",
       " \\end{bmatrix}\n",
       "$$"
      ],
      "text/plain": [
       "<IPython.core.display.Latex object>"
      ]
     },
     "execution_count": 8,
     "metadata": {},
     "output_type": "execute_result"
    }
   ],
   "source": [
    "svsim = Aer.get_backend('aer_simulator')\n",
    "qc.save_statevector()\n",
    "qobj = assemble(qc)\n",
    "final_state = svsim.run(qobj).result().get_statevector()\n",
    "\n",
    "# In Jupyter Notebooks we can display this nicely using Latex.\n",
    "# If not using Jupyter Notebooks you may need to remove the \n",
    "# array_to_latex function and use print(final_state) instead.\n",
    "from qiskit.visualization import array_to_latex\n",
    "array_to_latex(final_state, prefix=\"\\\\text{Statevector} = \")"
   ]
  },
  {
   "cell_type": "code",
   "execution_count": 9,
   "id": "joint-examination",
   "metadata": {},
   "outputs": [
    {
     "data": {
      "image/png": "[encoded data removed]",
      "text/plain": [
       "<Figure size 206.852x144.48 with 1 Axes>"
      ]
     },
     "execution_count": 9,
     "metadata": {},
     "output_type": "execute_result"
    }
   ],
   "source": [
    "# Aplicar operador de mutación que cambie la puerta cnot por la puerta swap\n",
    "qc = QuantumCircuit(2)\n",
    "qc.x(0)\n",
    "qc.swap(0,1)\n",
    "#print(qc.draw(output='latex_source'))\n",
    "qc.draw(output='mpl')"
   ]
  },
  {
   "cell_type": "code",
   "execution_count": 10,
   "id": "external-carnival",
   "metadata": {},
   "outputs": [
    {
     "data": {
      "text/latex": [
       "$$\n",
       "\\text{Statevector} = \n",
       "\\begin{bmatrix}\n",
       "0 & 0 & 1 & 0  \\\\\n",
       " \\end{bmatrix}\n",
       "$$"
      ],
      "text/plain": [
       "<IPython.core.display.Latex object>"
      ]
     },
     "execution_count": 10,
     "metadata": {},
     "output_type": "execute_result"
    }
   ],
   "source": [
    "svsim = Aer.get_backend('aer_simulator')\n",
    "qc.save_statevector()\n",
    "qobj = assemble(qc)\n",
    "final_state = svsim.run(qobj).result().get_statevector()\n",
    "\n",
    "# In Jupyter Notebooks we can display this nicely using Latex.\n",
    "# If not using Jupyter Notebooks you may need to remove the \n",
    "# array_to_latex function and use print(final_state) instead.\n",
    "from qiskit.visualization import array_to_latex\n",
    "array_to_latex(final_state, prefix=\"\\\\text{Statevector} = \")"
   ]
  },
  {
   "cell_type": "markdown",
   "id": "clean-appraisal",
   "metadata": {},
   "source": [
    "# Operadores de mutación en qiskit"
   ]
  },
  {
   "cell_type": "markdown",
   "id": "aboriginal-production",
   "metadata": {},
   "source": [
    "### Importamos las puertas que usa qiskit"
   ]
  },
  {
   "cell_type": "code",
   "execution_count": 12,
   "id": "prepared-swaziland",
   "metadata": {},
   "outputs": [],
   "source": [
    "from qiskit.circuit.library import HGate, SwapGate\n",
    "from qiskit.circuit.library.standard_gates import (\n",
    "    IGate,\n",
    "    U1Gate,\n",
    "    U2Gate,\n",
    "    U3Gate,\n",
    "    XGate,\n",
    "    YGate,\n",
    "    ZGate,\n",
    "    HGate,\n",
    "    SGate,\n",
    "    SdgGate,\n",
    "    TGate,\n",
    "    TdgGate,\n",
    "    RXGate,\n",
    "    RYGate,\n",
    "    RZGate,\n",
    "    CXGate,\n",
    "    CYGate,\n",
    "    CZGate,\n",
    "    CHGate,\n",
    "    CRZGate,\n",
    "    CU1Gate,\n",
    "    CU3Gate,\n",
    "    SwapGate,\n",
    "    RZZGate,\n",
    "    CCXGate,\n",
    "    CSwapGate,\n",
    ")\n",
    "#Primer tipo de operador, cambiar puertas consecutivas de orden, cambiando tambien el circuito\n",
    "\n",
    "one_q_ops = [\n",
    "        IGate,\n",
    "        U1Gate,\n",
    "        U2Gate,\n",
    "        U3Gate,\n",
    "        XGate,\n",
    "        YGate,\n",
    "        ZGate,\n",
    "        HGate,\n",
    "        SGate,\n",
    "        SdgGate,\n",
    "        TGate,\n",
    "        TdgGate,    \n",
    "        RXGate,\n",
    "        RYGate,\n",
    "        RZGate,\n",
    "    ]\n",
    "one_param = [U1Gate, RXGate, RYGate, RZGate, RZZGate, CU1Gate, CRZGate]\n",
    "two_param = [U2Gate]\n",
    "three_param = [U3Gate, CU3Gate]\n",
    "two_q_ops = [CXGate, CYGate, CZGate, CHGate, CRZGate, CU1Gate, CU3Gate, SwapGate, RZZGate]\n",
    "three_q_ops = [CCXGate, CSwapGate]"
   ]
  },
  {
   "cell_type": "markdown",
   "id": "alien-newark",
   "metadata": {},
   "source": [
    "### Funciones auxiliares"
   ]
  },
  {
   "cell_type": "code",
   "execution_count": 14,
   "id": "genuine-republic",
   "metadata": {},
   "outputs": [],
   "source": [
    "from qiskit.circuit import Instruction\n",
    "import random\n",
    "import numpy as np\n",
    "from qiskit import QuantumCircuit, transpile\n",
    "from qiskit.providers.aer import QasmSimulator\n",
    "from qiskit.visualization import plot_histogram \n",
    "\n",
    "\n",
    "\n",
    "\n",
    "\n",
    "def change(ls,q1,q2):\n",
    "    if q1 in ls:\n",
    "        index = ls.index(q1)\n",
    "        ls[index]=q2\n",
    "    return ls\n",
    "        \n",
    "\n",
    "def replace(circ, origin, instruction: Instruction):\n",
    "    circ._data = [(instruction, _inst[1], _inst[2]) if _inst[0] == origin  else _inst for _inst in circ._data]\n",
    "def replace_target_qubit(circ,origin,target_qubit,final_qubit):\n",
    "    circ._data = [(_inst[0], change(_inst[1],target_qubit,final_qubit), _inst[2]) if _inst[0] == origin  else _inst for _inst in circ._data]\n",
    "def replace_target_clbit(circ,origin,target_clbit,final_clbit):\n",
    "    circ._data = [(_inst[0], _inst[1], change(_inst[2],target_clbit,final_clbit)) if _inst[0] == origin  else _inst for _inst in circ._data]"
   ]
  },
  {
   "cell_type": "markdown",
   "id": "binary-bradley",
   "metadata": {},
   "source": [
    "### Operador 1: gate_mutant"
   ]
  },
  {
   "cell_type": "code",
   "execution_count": 19,
   "id": "cognitive-ballot",
   "metadata": {},
   "outputs": [],
   "source": [
    "def gate_mutant(circ1,input_gate=None,output_gate=None):\n",
    "    \"\"\"\n",
    "    \n",
    "\n",
    "    Parameters\n",
    "    ----------\n",
    "    circ1 : QuantumCircuit\n",
    "    input_gate : Instruction\n",
    "    output_gate : Instruction\n",
    "        \n",
    "    Description\n",
    "    -----------\n",
    "    Intercambia input_gate por output_gate en circ1, si no se especifica alguna de las dos, se toma de manera aleatoria.\n",
    "\n",
    "    Returns\n",
    "    -------\n",
    "    circ : QuantumCircuit\n",
    "        Mutant\n",
    "\n",
    "    \"\"\"\n",
    "    circ = circ1.copy()\n",
    "    if input_gate is None:\n",
    "        n = len(circ.data)\n",
    "        i=0\n",
    "        num_clbits=-1\n",
    "        while num_clbits!=0 and i<n:\n",
    "            r = random.randint(0, n-1)\n",
    "            inst = circ.data[r]\n",
    "            input_gate=inst[0]\n",
    "            num_clbits = input_gate.num_clbits\n",
    "            i+=1\n",
    "    if output_gate is None:\n",
    "        \"\"\"\n",
    "        Si no le decimos lo contrario, cambia puertas que afectan a la misma cantidad de bits\n",
    "        \"\"\"\n",
    "        num_qubits=input_gate.num_qubits\n",
    "        if num_qubits==1:\n",
    "            GATE = one_q_ops[random.randint(0, len(one_q_ops)-1)]\n",
    "        elif num_qubits==2:\n",
    "            GATE = two_q_ops[random.randint(0, len(two_q_ops)-1)]\n",
    "        elif num_qubits==3:\n",
    "            GATE = three_q_ops[random.randint(0, len(three_q_ops)-1)]\n",
    "        if GATE in one_param:\n",
    "            p = random.uniform(0, 2*np.pi)\n",
    "            output_gate = GATE(p)\n",
    "        elif GATE in two_param:\n",
    "            p1 = random.uniform(0, 2*np.pi)\n",
    "            p2 = random.uniform(0, 2*np.pi)\n",
    "            output_gate = GATE(p1,p2)\n",
    "        elif GATE in three_param:\n",
    "            p1=random.uniform(0, 2*np.pi)\n",
    "            p2=random.uniform(0, 2*np.pi)\n",
    "            p3=random.uniform(0, 2*np.pi)\n",
    "            output_gate = GATE(p1,p2,p3)\n",
    "        else:\n",
    "            output_gate = GATE()     \n",
    "    replace(circ,input_gate,output_gate)\n",
    "    print('Se reemplaza la puerta ',input_gate.name,' por la puerta ',output_gate.name)\n",
    "    return circ"
   ]
  },
  {
   "cell_type": "markdown",
   "id": "subsequent-think",
   "metadata": {},
   "source": [
    "### Operador 2: targetqubit_mutant\n"
   ]
  },
  {
   "cell_type": "code",
   "execution_count": 21,
   "id": "legendary-making",
   "metadata": {},
   "outputs": [],
   "source": [
    "def targetqubit_mutant(circ1,gate=None,target_qubit=None,final_qubit=None):\n",
    "    \"\"\"\n",
    "    \n",
    "\n",
    "    Parameters\n",
    "    ----------\n",
    "    circ1 : QuantumCircuit\n",
    "    gate : Instruction\n",
    "    target_qubit : Qubit\n",
    "    final_qubit : Quibit\n",
    "\n",
    "    Description\n",
    "    -----------\n",
    "    Intercambia, en gate, target_qubit por final_qubit. Los parámetros no especificados se seleccionan de manera aleatoria\n",
    "\n",
    "    Returns\n",
    "    -------\n",
    "    circ : QuantumCircuit\n",
    "        Mutant\n",
    "\n",
    "    \"\"\"\n",
    "    circ = circ1.copy()\n",
    "    if gate is None:\n",
    "        n = len(circ.qubits)\n",
    "        if n<3:\n",
    "            raise Exception('Impossible to change target qubits for any gate as there are less than 3 qubits')\n",
    "        else:\n",
    "            i=0\n",
    "            num_qubits=0\n",
    "            while num_qubits<2 and i<n:  \n",
    "                r = random.randint(0, n-1)\n",
    "                inst = circ.data[r]\n",
    "                num_qubits = inst[0].num_qubits\n",
    "                i+=1\n",
    "                gate=inst[0]            \n",
    "    if gate.num_qubits<2:\n",
    "        raise Exception('Could not find multi qubit gates, change the circuit or try again')\n",
    "    else:\n",
    "        if target_qubit is None:\n",
    "            target_qubit = inst[1][random.randint(0, len(inst[1])-1)]\n",
    "        if final_qubit is None:\n",
    "            final_qubit = circ.qubits[random.randint(0,len(circ.qubits)-1)]\n",
    "        replace_target_qubit(circ, gate, target_qubit, final_qubit)\n",
    "    print('Se han cambiado los qubits a los que afecta la puerta ',gate.name)\n",
    "    return circ\n",
    "        "
   ]
  },
  {
   "cell_type": "markdown",
   "id": "incomplete-polls",
   "metadata": {},
   "source": [
    "### Operador 3: targetclbit_mutant"
   ]
  },
  {
   "cell_type": "code",
   "execution_count": 22,
   "id": "pharmaceutical-eating",
   "metadata": {},
   "outputs": [],
   "source": [
    "def targetclbit_mutant(circ1,gate=None,target_clbit=None,final_clbit=None):\n",
    "    \"\"\"\n",
    "    \n",
    "\n",
    "    Parameters\n",
    "    ----------\n",
    "    circ1 : QuantumCircuit\n",
    "    gate : Instruction\n",
    "    target_clbit : Clbit\n",
    "    final_clbit : Clbit\n",
    "\n",
    "\n",
    "    Description\n",
    "    -----------\n",
    "    Intercambia, en gate, target_clbit por final_clbit. Los parámetros no especificados se seleccionan de manera aleatoria\n",
    "\n",
    "\n",
    "    Returns\n",
    "    -------\n",
    "    circ : QuantumCircuit\n",
    "        Mutant\n",
    "\n",
    "    \"\"\"\n",
    "    circ = circ1.copy()\n",
    "    if gate is None:\n",
    "        n = len(circ.data)\n",
    "        if len(circ.clbits)<2:\n",
    "            raise Exception('Impossible to change target clbits as there are less than 2')\n",
    "        else:\n",
    "            i=0\n",
    "            num_clbits=0\n",
    "            while num_clbits==0 and i<n:  \n",
    "                r = random.randint(0, n-1)\n",
    "                inst = circ.data[r]\n",
    "                num_clbits = inst[0].num_clbits\n",
    "                i+=1\n",
    "                gate=inst[0]\n",
    "    if gate.num_clbits==0:\n",
    "        raise Exception('Could not find gates with classical bits or meaurements, change the circuit or try again')\n",
    "    else:\n",
    "        if target_clbit is None:\n",
    "            target_clbit = inst[2][random.randint(0, len(inst[2])-1)]\n",
    "        if final_clbit is None:\n",
    "            final_clbit = circ.clbits[random.randint(0,len(circ.clbits)-1)]\n",
    "        replace_target_clbit(circ, gate, target_clbit, final_clbit)\n",
    "    print('Se ha cambiado los bits clásicos afectados')\n",
    "    return circ"
   ]
  },
  {
   "cell_type": "markdown",
   "id": "accomplished-denial",
   "metadata": {},
   "source": [
    "### Operador 4: measure_mutant"
   ]
  },
  {
   "cell_type": "code",
   "execution_count": 23,
   "id": "successful-oriental",
   "metadata": {},
   "outputs": [],
   "source": [
    "def measure_mutant(circ1,target_qubit=None,final_qubit=None):\n",
    "    \"\"\"\n",
    "    \n",
    "\n",
    "    Parameters\n",
    "    ----------\n",
    "    circ1 : TQuantumCircuit \n",
    "    target_qubit : Qubit\n",
    "    final_qubit : Qubit\n",
    "\n",
    "    Description\n",
    "    -----------\n",
    "    Intercambia, en una medición, target_qubit por final_qubit. Los parámetros no especificados se seleccionan de manera aleatoria\n",
    "\n",
    "    \n",
    "    Returns\n",
    "    -------\n",
    "    circ : QuantumCircuit\n",
    "        Mutant\n",
    "    \"\"\"\n",
    "    circ=circ1.copy()\n",
    "    n=len(circ.data)\n",
    "    if len(circ.clbits)<2:\n",
    "        raise Exception('Impossible to change target clbits as there are less than 2')\n",
    "    if target_qubit is None:\n",
    "        i=0\n",
    "        found=False\n",
    "        while i<n and not found:\n",
    "            r = random.randint(0, n-1)\n",
    "            inst = circ.data[r]\n",
    "            if inst[0].name=='measure':\n",
    "                found=True\n",
    "            i+=1\n",
    "            gate=inst[0]\n",
    "        target_qubit=inst[1][0]\n",
    "    else:\n",
    "        found=False\n",
    "        i=0\n",
    "        while not found and i<n:\n",
    "            inst = circ.data[i]\n",
    "            if inst[0]=='measure' and target_qubit in inst[1]:\n",
    "                found=True\n",
    "            gate=inst[0]\n",
    "            i+=1\n",
    "    if gate.name != 'measure':\n",
    "        raise Exception('Could not find measurement gate, change the circuit or try again')\n",
    "    if final_qubit is None:\n",
    "        final_qubit = circ.qubits[random.randint(0,len(circ.qubits)-1)]\n",
    "    print('Se cambia el qubit al que afecta la medición')\n",
    "    replace_target_qubit(circ, gate, target_qubit, final_qubit)\n",
    "    return circ"
   ]
  },
  {
   "cell_type": "markdown",
   "id": "fuzzy-module",
   "metadata": {},
   "source": [
    "### Operador de operadores\n"
   ]
  },
  {
   "cell_type": "code",
   "execution_count": 24,
   "id": "suspected-portugal",
   "metadata": {},
   "outputs": [],
   "source": [
    "def mutant(circ,gate=True,target_qubit=True,target_clbit=True,measure=True):\n",
    "    \"\"\"\n",
    "    \n",
    "\n",
    "    Parameters\n",
    "    ----------\n",
    "    circ : QuantumCircuit\n",
    "    gate : bool\n",
    "    target_qubit : bool\n",
    "    target_clbit : bool\n",
    "    measure : bool\n",
    "        Indica si se quiere dar la opción de usar al operador measure\n",
    "\n",
    "    \n",
    "    Description\n",
    "    -----------\n",
    "    Garantiza que devuelve un mutante del circuito original de manera aleatoria seleccionando unos de los cuatro operadores, si se indica que alguno de los tres es falso, no se generará el mutante usando ese operador\n",
    "\n",
    "\n",
    "    Returns\n",
    "    -------\n",
    "    result : QuantumCircuit\n",
    "        Mutant\n",
    "\n",
    "    \n",
    "\n",
    "    \"\"\"\n",
    "    \n",
    "    r = random.randint(1, 4)\n",
    "    if r==1 and gate:\n",
    "        result = gate_mutant(circ)\n",
    "    elif r==2 and target_qubit:\n",
    "        result = targetqubit_mutant(circ)\n",
    "    elif r==3 and target_clbit:\n",
    "        result = targetclbit_mutant(circ)\n",
    "    elif measure:\n",
    "        result = measure_mutant(circ)\n",
    "    if result == circ:\n",
    "        result = mutant(circ,gate,target_qubit,target_clbit,measure)\n",
    "    return result"
   ]
  },
  {
   "cell_type": "code",
   "execution_count": 25,
   "id": "little-cincinnati",
   "metadata": {},
   "outputs": [],
   "source": [
    "# Ahora hacemos que sean métodos para QuantumCircuit\n",
    "QuantumCircuit.mutant = mutant\n",
    "QuantumCircuit.gate_mutant = gate_mutant\n",
    "QuantumCircuit.targetqubit_mutant = targetqubit_mutant\n",
    "QuantumCircuit.targetclbit_mutant = targetclbit_mutant\n",
    "QuantumCircuit.measure_mutant = measure_mutant"
   ]
  },
  {
   "cell_type": "markdown",
   "id": "south-samoa",
   "metadata": {},
   "source": [
    "# Ejemplos de uso"
   ]
  },
  {
   "cell_type": "code",
   "execution_count": 28,
   "id": "incredible-julian",
   "metadata": {},
   "outputs": [
    {
     "data": {
      "image/png": "[encoded data removed]",
      "text/plain": [
       "<Figure size 447.797x325.08 with 1 Axes>"
      ]
     },
     "execution_count": 28,
     "metadata": {},
     "output_type": "execute_result"
    }
   ],
   "source": [
    "#Creamos un circuito para mutarlo\n",
    "qc = QuantumCircuit(4,4)\n",
    "qc.h(0)\n",
    "qc.x(3)\n",
    "qc.cx(0,2)\n",
    "qc.ccx(1,2,3)\n",
    "qc.measure([0,3,2],[3,1,0])\n",
    "#print(qc.draw(output='latex_source'))\n",
    "qc.draw(output='mpl')"
   ]
  },
  {
   "cell_type": "code",
   "execution_count": 29,
   "id": "canadian-motorcycle",
   "metadata": {},
   "outputs": [
    {
     "name": "stdout",
     "output_type": "stream",
     "text": [
      "Se reemplaza la puerta  ccx  por la puerta  ccx\n",
      "Se reemplaza la puerta  h  por la puerta  x\n"
     ]
    },
    {
     "data": {
      "image/png": "[encoded data removed]",
      "text/plain": [
       "<Figure size 447.797x325.08 with 1 Axes>"
      ]
     },
     "execution_count": 29,
     "metadata": {},
     "output_type": "execute_result"
    }
   ],
   "source": [
    "# Operador 1\n",
    "qc.gate_mutant()#Esto nos devolverá el cambio de cualquier puerta por cualquier otra\n",
    "\n",
    "#Cambiamos particularmente la puerta H por la puerta X\n",
    "qc.gate_mutant(HGate(),XGate())\n",
    "qc.draw(output='mpl')"
   ]
  },
  {
   "cell_type": "code",
   "execution_count": 30,
   "id": "legislative-moore",
   "metadata": {},
   "outputs": [
    {
     "name": "stdout",
     "output_type": "stream",
     "text": [
      "Se reemplaza la puerta  h  por la puerta  x\n",
      "Se reemplaza la puerta  h  por la puerta  sdg\n",
      "Se reemplaza la puerta  h  por la puerta  z\n",
      "Se reemplaza la puerta  h  por la puerta  y\n"
     ]
    },
    {
     "data": {
      "text/plain": [
       "[<qiskit.circuit.quantumcircuit.QuantumCircuit at 0x7f0b0c3c0a30>,\n",
       " <qiskit.circuit.quantumcircuit.QuantumCircuit at 0x7f0b0c42c8e0>,\n",
       " <qiskit.circuit.quantumcircuit.QuantumCircuit at 0x7f0b0c555940>,\n",
       " <qiskit.circuit.quantumcircuit.QuantumCircuit at 0x7f0b0c3c02e0>]"
      ]
     },
     "execution_count": 30,
     "metadata": {},
     "output_type": "execute_result"
    }
   ],
   "source": [
    "# Por ejemplo, podemos crear una lista de mutantes dada una lista de puertas\n",
    "puertas = [XGate(),SdgGate(),ZGate(),YGate()]\n",
    "mutantes = [qc.gate_mutant(HGate(),puerta) for puerta in puertas]\n",
    "mutantes"
   ]
  },
  {
   "cell_type": "code",
   "execution_count": 31,
   "id": "premier-bible",
   "metadata": {},
   "outputs": [
    {
     "name": "stdout",
     "output_type": "stream",
     "text": [
      "Se han cambiado los qubits a los que afecta la puerta  cx\n"
     ]
    },
    {
     "data": {
      "image/png": "[encoded data removed]",
      "text/plain": [
       "<Figure size 387.597x325.08 with 1 Axes>"
      ]
     },
     "execution_count": 31,
     "metadata": {},
     "output_type": "execute_result"
    }
   ],
   "source": [
    "qc.targetqubit_mutant().draw(output='mpl')"
   ]
  },
  {
   "cell_type": "code",
   "execution_count": 32,
   "id": "noble-granny",
   "metadata": {},
   "outputs": [
    {
     "data": {
      "image/png": "[encoded data removed]",
      "text/plain": [
       "<Figure size 447.797x325.08 with 1 Axes>"
      ]
     },
     "execution_count": 32,
     "metadata": {},
     "output_type": "execute_result"
    }
   ],
   "source": [
    "qc.draw(output='mpl')\n",
    "#El anterior mutante ha cambiado el qubit de control en la puerta cx"
   ]
  },
  {
   "cell_type": "code",
   "execution_count": 33,
   "id": "blessed-uniform",
   "metadata": {},
   "outputs": [
    {
     "data": {
      "image/png": "[encoded data removed]",
      "text/plain": [
       "<Figure size 628.397x325.08 with 1 Axes>"
      ]
     },
     "execution_count": 33,
     "metadata": {},
     "output_type": "execute_result"
    }
   ],
   "source": [
    "from qiskit.circuit.random import random_circuit\n",
    "\n",
    "circ = random_circuit(4, 4, measure=True)\n",
    "circ.draw(output='mpl')"
   ]
  },
  {
   "cell_type": "code",
   "execution_count": 34,
   "id": "applicable-picking",
   "metadata": {},
   "outputs": [
    {
     "name": "stdout",
     "output_type": "stream",
     "text": [
      "Se ha cambiado los bits clásicos afectados\n"
     ]
    },
    {
     "data": {
      "image/png": "[encoded data removed]",
      "text/plain": [
       "<Figure size 628.397x325.08 with 1 Axes>"
      ]
     },
     "execution_count": 34,
     "metadata": {},
     "output_type": "execute_result"
    }
   ],
   "source": [
    "c1 = circ.mutant()\n",
    "#print(c1.draw(output='latex_source'))\n",
    "c1.draw(output='mpl')"
   ]
  },
  {
   "cell_type": "code",
   "execution_count": 35,
   "id": "joined-sherman",
   "metadata": {},
   "outputs": [
    {
     "data": {
      "image/png": "[encoded data removed]",
      "text/plain": [
       "<Figure size 447.797x325.08 with 1 Axes>"
      ]
     },
     "execution_count": 35,
     "metadata": {},
     "output_type": "execute_result"
    }
   ],
   "source": [
    "#Creamos un circuito para mutarlo\n",
    "qc = QuantumCircuit(4,4)\n",
    "qc.h(0)\n",
    "qc.x(3)\n",
    "qc.cx(0,2)\n",
    "qc.ccx(1,2,3)\n",
    "qc.measure([0,3,2],[3,1,0])\n",
    "#print(qc.draw(output='latex_source'))\n",
    "qc.draw(output='mpl')"
   ]
  },
  {
   "cell_type": "code",
   "execution_count": 36,
   "id": "personal-catch",
   "metadata": {},
   "outputs": [
    {
     "name": "stdout",
     "output_type": "stream",
     "text": [
      "Se reemplaza la puerta  h  por la puerta  sdg\n",
      "Se han cambiado los qubits a los que afecta la puerta  cx\n",
      "Se cambia el qubit al que afecta la medición\n"
     ]
    }
   ],
   "source": [
    "#Ahora creamos tres mutantes del circuito\n",
    "m1 = qc.gate_mutant(HGate(),SdgGate())\n",
    "m2 = qc.targetqubit_mutant(CXGate(),qc.qubits[0],qc.qubits[1])\n",
    "m3 = qc.measure_mutant(qc.qubits[0],qc.qubits[1])"
   ]
  },
  {
   "cell_type": "code",
   "execution_count": 37,
   "id": "political-flour",
   "metadata": {},
   "outputs": [
    {
     "data": {
      "image/png": "[encoded data removed]",
      "text/plain": [
       "<Figure size 447.797x325.08 with 1 Axes>"
      ]
     },
     "execution_count": 37,
     "metadata": {},
     "output_type": "execute_result"
    }
   ],
   "source": [
    "#print(m1.draw(output='latex_source'))\n",
    "m1.draw(output='mpl')"
   ]
  },
  {
   "cell_type": "code",
   "execution_count": 39,
   "id": "expensive-massage",
   "metadata": {},
   "outputs": [
    {
     "data": {
      "image/png": "[encoded data removed]",
      "text/plain": [
       "<Figure size 387.597x325.08 with 1 Axes>"
      ]
     },
     "execution_count": 39,
     "metadata": {},
     "output_type": "execute_result"
    }
   ],
   "source": [
    "#print(m2.draw(output='latex_source'))\n",
    "m2.draw(output='mpl')"
   ]
  },
  {
   "cell_type": "code",
   "execution_count": 41,
   "id": "continued-native",
   "metadata": {},
   "outputs": [
    {
     "data": {
      "image/png": "[encoded data removed]",
      "text/plain": [
       "<Figure size 447.797x325.08 with 1 Axes>"
      ]
     },
     "execution_count": 41,
     "metadata": {},
     "output_type": "execute_result"
    }
   ],
   "source": [
    "#print(m3.draw(output='latex_source'))\n",
    "m3.draw(output='mpl')"
   ]
  },
  {
   "cell_type": "markdown",
   "id": "dried-bracelet",
   "metadata": {},
   "source": [
    "# Ejemplo de metamorphic testing"
   ]
  },
  {
   "cell_type": "code",
   "execution_count": 46,
   "id": "composite-perth",
   "metadata": {},
   "outputs": [],
   "source": [
    "from qiskit import QuantumCircuit, transpile\n",
    "from qiskit.providers.aer import QasmSimulator\n",
    "from qiskit.visualization import plot_histogram\n",
    "\n",
    "simulator = QasmSimulator()\n",
    "    \n",
    "\n",
    "\n",
    "def circuito_suma(n):\n",
    "    qc = QuantumCircuit(3*n,n)\n",
    "    for i in range(n-1):\n",
    "        qc.barrier()\n",
    "        qc.ccx(i,i+2*n,i+2*n+1)\n",
    "        qc.cx(i,i+2*n)\n",
    "        qc.ccx(i+n,i+2*n,i+2*n+1)\n",
    "        qc.cx(i+n,i+2*n)\n",
    "    qc.barrier()\n",
    "    qc.cx(n-1,3*n-1)\n",
    "    qc.cx(2*n-1,3*n-1)\n",
    "    for i in range(n):\n",
    "        qc.measure(2*n+i,i)\n",
    "    return qc\n",
    "def suma_bits(n,st1,st2):\n",
    "    qc = QuantumCircuit(3*n,n)\n",
    "    i = n-1\n",
    "    for c in st1:\n",
    "        if c=='1':\n",
    "            qc.x(i)\n",
    "        i-=1\n",
    "    i=2*n-1\n",
    "    for c in st2:\n",
    "        if c=='1':\n",
    "            qc.x(i)\n",
    "        i-=1\n",
    "    result = qc.compose(circuito_suma(n))\n",
    "    return result\n",
    "def suma_modular(a,b):\n",
    "    aux = max(a,b)\n",
    "    m = min(a,b)\n",
    "    a=aux\n",
    "    b=m\n",
    "    a = \"{0:b}\".format(a)\n",
    "    b = \"{0:b}\".format(b)\n",
    "    if (len(a)>len(b)):\n",
    "        r = len(a)-len(b)\n",
    "        st = '0'*r\n",
    "        b=st+b\n",
    "    qc = suma_bits(len(a),a,b)\n",
    "    compiled_circuit = transpile(qc, simulator)\n",
    "    job = simulator.run(compiled_circuit)\n",
    "    result = job.result()\n",
    "    counts = result.get_counts(compiled_circuit)\n",
    "    print(qc.draw())\n",
    "    print('El resultado de la suma en binario de ',a,'+',b, 'es: ',counts)\n",
    "    return qc"
   ]
  },
  {
   "cell_type": "code",
   "execution_count": 47,
   "id": "controlling-worth",
   "metadata": {},
   "outputs": [
    {
     "name": "stdout",
     "output_type": "stream",
     "text": [
      "{'01001': 10}\n",
      "{'01001': 10}\n"
     ]
    },
    {
     "data": {
      "text/plain": [
       "True"
      ]
     },
     "execution_count": 47,
     "metadata": {},
     "output_type": "execute_result"
    }
   ],
   "source": [
    "#Ejemplo de la regla metamórfica\n",
    "qc=suma_bits(5,'10101','10100')\n",
    "compiled_circuit = transpile(qc, simulator)\n",
    "job = simulator.run(compiled_circuit,shots=10)\n",
    "result = job.result()\n",
    "counts1 = result.get_counts(compiled_circuit)\n",
    "print(counts1)\n",
    "\n",
    "qc=suma_bits(5,'10100','10101')\n",
    "compiled_circuit = transpile(qc, simulator)\n",
    "job = simulator.run(compiled_circuit,shots=10)\n",
    "result = job.result()\n",
    "counts2 = result.get_counts(compiled_circuit)\n",
    "print(counts2)\n",
    "counts1 == counts2"
   ]
  },
  {
   "cell_type": "code",
   "execution_count": 48,
   "id": "rapid-destination",
   "metadata": {},
   "outputs": [],
   "source": [
    "import random\n",
    "# Usaremos esta función para crear un conjunto test \n",
    "def rand_key(p):\n",
    "   \n",
    "    # Variable to store the\n",
    "    # string\n",
    "    key1 = \"\"\n",
    " \n",
    "    # Loop to find the string\n",
    "    # of desired length\n",
    "    for i in range(p):\n",
    "         \n",
    "        # randint function to generate\n",
    "        # 0, 1 randomly and converting\n",
    "        # the result into str\n",
    "        temp = str(random.randint(0, 1))\n",
    " \n",
    "        # Concatenation the random 0, 1\n",
    "        # to the final result\n",
    "        key1 += temp\n",
    "         \n",
    "    return(key1)\n",
    "\n",
    "n = 5\n",
    "test = [rand_key(n) for i in range(100)]"
   ]
  },
  {
   "cell_type": "code",
   "execution_count": 49,
   "id": "married-miller",
   "metadata": {},
   "outputs": [
    {
     "name": "stdout",
     "output_type": "stream",
     "text": [
      "Test superado con éxito\n"
     ]
    }
   ],
   "source": [
    "import functools\n",
    "import operator\n",
    "\n",
    "\n",
    "l=[None]*(len(test)-1)\n",
    "for i in range(len(test)-1):\n",
    "\n",
    "    qc1 = suma_bits(n,test[i],test[i+1])\n",
    "    qc2 = suma_bits(n,test[i+1],test[i])\n",
    "    \n",
    "    compiled_circuit = transpile(qc1, simulator)\n",
    "    job = simulator.run(compiled_circuit,shots=10)\n",
    "    result = job.result()\n",
    "    counts1 = result.get_counts(compiled_circuit)\n",
    "    \n",
    "    \n",
    "    compiled_circuit = transpile(qc2, simulator)\n",
    "    job = simulator.run(compiled_circuit,shots=10)\n",
    "    result = job.result()\n",
    "    counts2 = result.get_counts(compiled_circuit)\n",
    "    \n",
    "    \n",
    "    l[i]=counts1==counts2\n",
    "\n",
    "if not (False in l):\n",
    "    print('Test superado con éxito')"
   ]
  },
  {
   "cell_type": "code",
   "execution_count": null,
   "id": "limited-liberty",
   "metadata": {},
   "outputs": [],
   "source": []
  }
 ],
 "metadata": {
  "kernelspec": {
   "display_name": "Python 3",
   "language": "python",
   "name": "python3"
  },
  "language_info": {
   "codemirror_mode": {
    "name": "ipython",
    "version": 3
   },
   "file_extension": ".py",
   "mimetype": "text/x-python",
   "name": "python",
   "nbconvert_exporter": "python",
   "pygments_lexer": "ipython3",
   "version": "3.9.7"
  }
 },
 "nbformat": 4,
 "nbformat_minor": 5
}
